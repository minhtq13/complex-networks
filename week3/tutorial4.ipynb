{
 "cells": [
  {
   "cell_type": "code",
   "execution_count": null,
   "id": "1a149076",
   "metadata": {},
   "outputs": [],
   "source": [
    "# Install required packages\n",
    "!pip install torch torchvision torchaudio torch-geometric\n",
    "!pip install networkx matplotlib"
   ]
  },
  {
   "cell_type": "code",
   "execution_count": null,
   "id": "5ded3e30",
   "metadata": {},
   "outputs": [],
   "source": [
    "import torch\n",
    "from torch_geometric.datasets import Planetoid\n",
    "from torch_geometric.nn import GCNConv\n",
    "import torch.nn.functional as F"
   ]
  },
  {
   "cell_type": "code",
   "execution_count": null,
   "id": "abc41c91",
   "metadata": {},
   "outputs": [],
   "source": [
    "dataset = Planetoid(root='/tmp/Cora', name='Cora')\n",
    "data = dataset[0]\n",
    "print(\"Number of nodes:\", data.num_nodes)\n",
    "print(\"Number of edges:\", data.num_edges)\n",
    "print(\"Number of features:\", data.num_node_features)\n",
    "print(\"Number of classes:\", dataset.num_classes)"
   ]
  },
  {
   "cell_type": "code",
   "execution_count": null,
   "id": "9e5efe4c",
   "metadata": {},
   "outputs": [],
   "source": [
    "import networkx as nx\n",
    "import matplotlib.pyplot as plt\n",
    "from torch_geometric.utils import to_networkx\n",
    "G = to_networkx(data, to_undirected=True)\n",
    "plt.figure(figsize=(10, 8))\n",
    "nx.draw_spring(G, node_size=10, alpha=0.7)\n",
    "plt.title(\"Cora Citation Network\")\n",
    "plt.show()"
   ]
  },
  {
   "cell_type": "code",
   "execution_count": null,
   "id": "01a268e9",
   "metadata": {},
   "outputs": [],
   "source": [
    "class GCN(torch.nn.Module):\n",
    " def __init__(self):\n",
    "  super().__init__()\n",
    "  self.conv1 = GCNConv(dataset.num_node_features, 16)\n",
    "  self.conv2 = GCNConv(16, dataset.num_classes)\n",
    " def forward(self, x, edge_index):\n",
    "  x = self.conv1(x, edge_index)\n",
    "  x = F.relu(x)\n",
    "  x = F.dropout(x, training=self.training)\n",
    "  x = self.conv2(x, edge_index)\n",
    "  return F.log_softmax(x, dim=1)\n",
    "model = GCN()\n",
    "optimizer = torch.optim.Adam(model.parameters(), lr=0.01, weight_decay=5e-4)"
   ]
  },
  {
   "cell_type": "code",
   "execution_count": null,
   "id": "1b96f17e",
   "metadata": {},
   "outputs": [],
   "source": [
    "def train():\n",
    "  model.train()\n",
    "  optimizer.zero_grad()\n",
    "  out = model(data.x, data.edge_index)\n",
    "  loss = F.nll_loss(out[data.train_mask], data.y[data.train_mask])\n",
    "  loss.backward()\n",
    "  optimizer.step()\n",
    "  return loss.item()\n",
    "for epoch in range(1, 201):\n",
    "  loss = train()\n",
    "  if epoch % 20 == 0:\n",
    "    print(f'Epoch {epoch:03d}, Loss: {loss:.4f}')"
   ]
  },
  {
   "cell_type": "code",
   "execution_count": null,
   "id": "16b3417f",
   "metadata": {},
   "outputs": [],
   "source": [
    "model.eval()\n",
    "pred = model(data.x, data.edge_index).argmax(dim=1)\n",
    "correct = (pred[data.test_mask] == data.y[data.test_mask]).sum()\n",
    "acc = int(correct) / int(data.test_mask.sum())\n",
    "print(f'Accuracy on test set: {acc:.4f}')"
   ]
  }
 ],
 "metadata": {
  "language_info": {
   "name": "python"
  }
 },
 "nbformat": 4,
 "nbformat_minor": 5
}
